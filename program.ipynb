{
 "cells": [
  {
   "cell_type": "code",
   "execution_count": 1,
   "metadata": {},
   "outputs": [
    {
     "name": "stdin",
     "output_type": "stream",
     "text": [
      "How many hours you work? 40\n",
      "What is your hourly wage? 15\n",
      "How much you pay in taxes? 7\n"
     ]
    },
    {
     "name": "stdout",
     "output_type": "stream",
     "text": [
      "Gross Pay before taxes = 600! and Net Pay after taxes = 558.0\n"
     ]
    }
   ],
   "source": [
    "hourly = int(input(\"How many hours you work?\"))\n",
    "rate = int(input (\"What is your hourly wage?\"))\n",
    "taxesRate = int(input(\"How much you pay in taxes?\"))\n",
    "grossPay = hourly * rate\n",
    "\n",
    "print(\"Gross Pay before taxes =\", str(grossPay)+'!' , \"and Net Pay after taxes =\", grossPay - (grossPay)  * (taxesRate/100)) "
   ]
  },
  {
   "cell_type": "markdown",
   "metadata": {},
   "source": [
    "Im in"
   ]
  },
  {
   "cell_type": "code",
   "execution_count": null,
   "metadata": {},
   "outputs": [],
   "source": []
  }
 ],
 "metadata": {
  "kernelspec": {
   "display_name": "Python 3",
   "language": "python",
   "name": "python3"
  },
  "language_info": {
   "codemirror_mode": {
    "name": "ipython",
    "version": 3
   },
   "file_extension": ".py",
   "mimetype": "text/x-python",
   "name": "python",
   "nbconvert_exporter": "python",
   "pygments_lexer": "ipython3",
   "version": "3.8.3"
  }
 },
 "nbformat": 4,
 "nbformat_minor": 4
}
